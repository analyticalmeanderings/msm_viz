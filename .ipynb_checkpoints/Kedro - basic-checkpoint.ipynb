{
 "cells": [
  {
   "cell_type": "markdown",
   "id": "85dd3449",
   "metadata": {},
   "source": [
    "##### Step 1 install kedro\n",
    "#pip install kedro\n",
    "#https://kedro.readthedocs.io/en/stable/01_introduction/01_introduction.html"
   ]
  },
  {
   "cell_type": "code",
   "execution_count": 22,
   "id": "6a38a0e0",
   "metadata": {},
   "outputs": [
    {
     "name": "stdout",
     "output_type": "stream",
     "text": [
      "{'my_message': 'Hello Kedro!'}\n"
     ]
    }
   ],
   "source": [
    "from kedro.io import DataCatalog, MemoryDataSet\n",
    "from kedro.pipeline import node, Pipeline\n",
    "from kedro.runner import SequentialRunner\n",
    "\n",
    "# Prepare a data catalog\n",
    "data_catalog = DataCatalog({\"my_salutation\": MemoryDataSet()})\n",
    "\n",
    "# Prepare first node\n",
    "def return_greeting():\n",
    "    return \"Hello\"\n",
    "\n",
    "\n",
    "return_greeting_node = node(return_greeting, inputs=None, outputs=\"my_salutation\")\n",
    "\n",
    "# Prepare second node\n",
    "def join_statements(greeting):\n",
    "    return f\"{greeting} Kedro!\"\n",
    "\n",
    "\n",
    "join_statements_node = node(\n",
    "    join_statements, inputs=\"my_salutation\", outputs=\"my_message\"\n",
    ")\n",
    "\n",
    "# Assemble nodes into a pipeline\n",
    "pipeline = Pipeline([return_greeting_node, join_statements_node])\n",
    "\n",
    "# Create a runner to run the pipeline\n",
    "runner = SequentialRunner()\n",
    "\n",
    "# Run the pipeline\n",
    "print(runner.run(pipeline, data_catalog))"
   ]
  },
  {
   "cell_type": "code",
   "execution_count": 24,
   "id": "a5bf4851",
   "metadata": {},
   "outputs": [
    {
     "name": "stdout",
     "output_type": "stream",
     "text": [
      "8\n"
     ]
    }
   ],
   "source": [
    "5+3\n",
    "print(5+3)"
   ]
  },
  {
   "cell_type": "code",
   "execution_count": null,
   "id": "7b82a1c7",
   "metadata": {},
   "outputs": [],
   "source": []
  }
 ],
 "metadata": {
  "kernelspec": {
   "display_name": "Python 3",
   "language": "python",
   "name": "python3"
  },
  "language_info": {
   "codemirror_mode": {
    "name": "ipython",
    "version": 3
   },
   "file_extension": ".py",
   "mimetype": "text/x-python",
   "name": "python",
   "nbconvert_exporter": "python",
   "pygments_lexer": "ipython3",
   "version": "3.8.8"
  }
 },
 "nbformat": 4,
 "nbformat_minor": 5
}
