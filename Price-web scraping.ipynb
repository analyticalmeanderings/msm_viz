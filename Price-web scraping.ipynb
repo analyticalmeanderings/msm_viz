{
 "cells": [
  {
   "cell_type": "code",
   "execution_count": 1,
   "source": [
    "# TODO: add markdown cell with title, purpose, name, date, etc.\r\n",
    "import pandas as pd\r\n",
    "import os"
   ],
   "outputs": [],
   "metadata": {}
  },
  {
   "cell_type": "code",
   "execution_count": 2,
   "source": [
    "import requests #requesting URLs\r\n",
    "import urllib.request #requesting URLs\r\n",
    "import time #setting the speed at which the requests run\r\n",
    "import re #regexp string manipulation\r\n",
    "import matplotlib.pyplot as plt #for plotting the scraped data\r\n",
    "from bs4 import BeautifulSoup #for web-scraping operations"
   ],
   "outputs": [],
   "metadata": {}
  },
  {
   "cell_type": "code",
   "execution_count": 3,
   "source": [
    "url = 'https://www.cms.gov/medicare/medicare-part-b-drug-average-sales-price/2021-asp-drug-pricing-files'\r\n",
    "response = requests.get(url) #Connect to the URL using the \"requests\" package"
   ],
   "outputs": [],
   "metadata": {}
  },
  {
   "cell_type": "code",
   "execution_count": 4,
   "source": [
    "### read in the URL via the \"BeautifulSoup\" package ###\r\n",
    "\r\n",
    "soup = BeautifulSoup(response.text, 'html.parser')"
   ],
   "outputs": [],
   "metadata": {}
  },
  {
   "cell_type": "code",
   "execution_count": 7,
   "source": [
    "##### filter the HTML object for all link objects######\r\n",
    "\r\n",
    "link_objs = soup.find_all('a',href=re.compile('/Medicare/Medicare-Fee-for-Service-Part-B-Drugs/McrPartBDrugAvgSalesPrice/'))"
   ],
   "outputs": [],
   "metadata": {}
  },
  {
   "cell_type": "code",
   "execution_count": null,
   "source": [
    "####loop through the links with regexp ops to download####\r\n",
    "\r\n",
    "for i in range(len(link_objs)):\r\n",
    "    str_link = str(link_objs[i])\r\n",
    "        start_index = re.search(r\"\\bMcrPartBDrugAvgSalesPrice/\",str_link)\r\n",
    "        end_index = re.search(r\"\\\"\",str_link[start_index.span()[0]:len(str_link)])\r\n",
    "        end_url = str_link[start_index.span()[0]+6:start_index.span()[0]+end_index.span()[0]]\r\n",
    "        sub_url = 'https://www.cms.gov/Medicare/Medicare-Fee-for-Service-Part-B-Drugs/McrPartBDrugAvgSalesPrice/'+end_url\r\n",
    "        sub_soup = BeautifulSoup(requests.get(sub_url).text, 'html.parser')\r\n",
    "        sub_soup_link = sub_soup.find('a',href=re.compile('ASP Pricing File'))\r\n",
    "        "
   ],
   "outputs": [],
   "metadata": {}
  }
 ],
 "metadata": {
  "kernelspec": {
   "display_name": "Python 3",
   "language": "python",
   "name": "python3"
  },
  "language_info": {
   "codemirror_mode": {
    "name": "ipython",
    "version": 3
   },
   "file_extension": ".py",
   "mimetype": "text/x-python",
   "name": "python",
   "nbconvert_exporter": "python",
   "pygments_lexer": "ipython3",
   "version": "3.8.8"
  }
 },
 "nbformat": 4,
 "nbformat_minor": 5
}