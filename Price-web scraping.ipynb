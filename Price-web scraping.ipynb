{
 "cells": [
  {
   "cell_type": "code",
   "execution_count": 1,
   "id": "18d8b2e2",
   "metadata": {},
   "outputs": [],
   "source": [
    "import pandas as pd\n",
    "import os"
   ]
  },
  {
   "cell_type": "code",
   "execution_count": 2,
   "id": "bbcdcb53",
   "metadata": {},
   "outputs": [],
   "source": [
    "import requests #requesting URLs\n",
    "import urllib.request #requesting URLs\n",
    "import time #setting the speed at which the requests run\n",
    "import re #regexp string manipulation\n",
    "import matplotlib.pyplot as plt #for plotting the scraped data\n",
    "from bs4 import BeautifulSoup #for web-scraping operations"
   ]
  },
  {
   "cell_type": "code",
   "execution_count": 3,
   "id": "6b6f2a21",
   "metadata": {},
   "outputs": [],
   "source": [
    "url = 'https://www.cms.gov/medicare/medicare-part-b-drug-average-sales-price/2021-asp-drug-pricing-files'\n",
    "response = requests.get(url) #Connect to the URL using the \"requests\" package"
   ]
  },
  {
   "cell_type": "code",
   "execution_count": 4,
   "id": "a7802ad5",
   "metadata": {},
   "outputs": [],
   "source": [
    "### read in the URL via the \"BeautifulSoup\" package ###\n",
    "\n",
    "soup = BeautifulSoup(response.text, 'html.parser')"
   ]
  },
  {
   "cell_type": "code",
   "execution_count": 7,
   "id": "4b8d0845",
   "metadata": {},
   "outputs": [],
   "source": [
    "##### filter the HTML object for all link objects######\n",
    "\n",
    "link_objs = soup.find_all('a',href=re.compile('/Medicare/Medicare-Fee-for-Service-Part-B-Drugs/McrPartBDrugAvgSalesPrice/'))"
   ]
  },
  {
   "cell_type": "code",
   "execution_count": null,
   "id": "aaef4915",
   "metadata": {},
   "outputs": [],
   "source": [
    "####loop through the links with regexp ops to download####\n",
    "\n",
    "for i in range(len(link_objs)):\n",
    "    str_link = str(link_objs[i])\n",
    "        start_index = re.search(r\"\\bMcrPartBDrugAvgSalesPrice/\",str_link)\n",
    "        end_index = re.search(r\"\\\"\",str_link[start_index.span()[0]:len(str_link)])\n",
    "        end_url = str_link[start_index.span()[0]+6:start_index.span()[0]+end_index.span()[0]]\n",
    "        sub_url = 'https://www.cms.gov/Medicare/Medicare-Fee-for-Service-Part-B-Drugs/McrPartBDrugAvgSalesPrice/'+end_url\n",
    "        sub_soup = BeautifulSoup(requests.get(sub_url).text, 'html.parser')\n",
    "        sub_soup_link = sub_soup.find('a',href=re.compile('ASP Pricing File'))\n",
    "        "
   ]
  }
 ],
 "metadata": {
  "kernelspec": {
   "display_name": "Python 3",
   "language": "python",
   "name": "python3"
  },
  "language_info": {
   "codemirror_mode": {
    "name": "ipython",
    "version": 3
   },
   "file_extension": ".py",
   "mimetype": "text/x-python",
   "name": "python",
   "nbconvert_exporter": "python",
   "pygments_lexer": "ipython3",
   "version": "3.8.8"
  }
 },
 "nbformat": 4,
 "nbformat_minor": 5
}
