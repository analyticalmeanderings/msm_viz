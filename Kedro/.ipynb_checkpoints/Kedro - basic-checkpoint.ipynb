{
 "cells": [
  {
   "cell_type": "code",
   "execution_count": 7,
   "id": "d90f28c7",
   "metadata": {},
   "outputs": [
    {
     "name": "stdout",
     "output_type": "stream",
     "text": [
      "{'my_message': 'Hello Kedro!'}\n"
     ]
    }
   ],
   "source": [
    "# Kedro Fundamental\n",
    "\n",
    "from kedro.io import DataCatalog, MemoryDataSet\n",
    "from kedro.pipeline import node, Pipeline\n",
    "from kedro.runner import SequentialRunner\n",
    "\n",
    "# Prepare a data catalog\n",
    "data_catalog = DataCatalog({\"my_salutation\": MemoryDataSet()})\n",
    "\n",
    "# Prepare first node\n",
    "def return_greeting():\n",
    "    return \"Hello\"\n",
    "\n",
    "\n",
    "return_greeting_node = node(return_greeting, inputs=None, outputs=\"my_salutation\")\n",
    "\n",
    "# Prepare second node\n",
    "def join_statements(greeting):\n",
    "    return f\"{greeting} Kedro!\"\n",
    "\n",
    "\n",
    "join_statements_node = node(\n",
    "    join_statements, inputs=\"my_salutation\", outputs=\"my_message\"\n",
    ")\n",
    "\n",
    "# Assemble nodes into a pipeline\n",
    "pipeline = Pipeline([return_greeting_node, join_statements_node])\n",
    "\n",
    "# Create a runner to run the pipeline\n",
    "runner = SequentialRunner()\n",
    "\n",
    "# Run the pipeline\n",
    "print(runner.run(pipeline, data_catalog))"
   ]
  },
  {
   "cell_type": "markdown",
   "id": "159b82d6",
   "metadata": {},
   "source": [
    "##### Step 1 install kedro\n",
    "pip install kedro\\\n",
    "https://kedro.readthedocs.io/en/stable/01_introduction/01_introduction.html"
   ]
  },
  {
   "cell_type": "markdown",
   "id": "d64e0323",
   "metadata": {},
   "source": [
    "###### In command window\n",
    "to activate kedro environment:\n",
    ">conda activate kedro-environment\n",
    "\n",
    "to deactivate an active environment, use:\n",
    ">conda deactivate\n",
    "    \n",
    "1.create Kedro: kedro new\n",
    "    \n",
    "to make folder as git repo: git init\n",
    "\n",
    "2.After create folder: cd 'created folder'\\\n",
    "3.Kedro install\\\n",
    "4.kedro run"
   ]
  },
  {
   "cell_type": "markdown",
   "id": "40e9c979",
   "metadata": {},
   "source": [
    "##### How to work with Kedro and notebooks\n",
    "Note: Using kedro jupyter or kedro ipython to run your notebook provides these variables in scope: context, catalog, and startup_error.\n",
    "\n",
    "To use Jupyter notebooks in your Kedro project, you need to install Jupyter:\n",
    ">pip install jupyter\n",
    "\n",
    "After installing Jupyter, you can start a local notebook server:\n",
    ">kedro jupyter notebook"
   ]
  },
  {
   "cell_type": "markdown",
   "id": "4b57c1d3",
   "metadata": {},
   "source": [
    "##### Visualise pipelines\n",
    "You can install Kedro-Viz by running:\n",
    ">pip install kedro-viz\n",
    "\n",
    "###### Visualise a whole pipeline\\\n",
    "You should be in your project root directory, and once Kedro-Viz is installed you can visualise your pipeline by running:\n",
    ">kedro viz"
   ]
  },
  {
   "cell_type": "code",
   "execution_count": null,
   "id": "dc3e479f",
   "metadata": {},
   "outputs": [],
   "source": []
  }
 ],
 "metadata": {
  "kernelspec": {
   "display_name": "Python 3",
   "language": "python",
   "name": "python3"
  },
  "language_info": {
   "codemirror_mode": {
    "name": "ipython",
    "version": 3
   },
   "file_extension": ".py",
   "mimetype": "text/x-python",
   "name": "python",
   "nbconvert_exporter": "python",
   "pygments_lexer": "ipython3",
   "version": "3.8.8"
  }
 },
 "nbformat": 4,
 "nbformat_minor": 5
}
